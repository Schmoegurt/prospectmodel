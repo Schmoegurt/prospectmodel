{
 "cells": [
  {
   "cell_type": "code",
   "execution_count": 32,
   "metadata": {},
   "outputs": [],
   "source": [
    "import pandas as pd\n",
    "from datetime import datetime, timedelta\n",
    "import math\n",
    "import numpy as np\n",
    "from pandas.io.json import json_normalize"
   ]
  },
  {
   "cell_type": "code",
   "execution_count": 2,
   "metadata": {},
   "outputs": [
    {
     "name": "stderr",
     "output_type": "stream",
     "text": [
      "/Users/MattBarlowe/.virtualenvs/prospectmodel/lib/python3.6/site-packages/IPython/core/interactiveshell.py:2785: DtypeWarning: Columns (0,2,7) have mixed types. Specify dtype option on import or set low_memory=False.\n",
      "  interactivity=interactivity, compiler=compiler, result=result)\n"
     ]
    },
    {
     "data": {
      "text/plain": [
       "(136182, 13)"
      ]
     },
     "execution_count": 2,
     "metadata": {},
     "output_type": "execute_result"
    }
   ],
   "source": [
    "#the players number column, age, weight columns have NaN's in them probably can drop the number and weight columns\n",
    "#as they are not features \n",
    "roster = pd.read_csv('stats_files/rosters', sep = '|')\n",
    "roster.shape\n"
   ]
  },
  {
   "cell_type": "code",
   "execution_count": 3,
   "metadata": {},
   "outputs": [
    {
     "data": {
      "text/plain": [
       "(136021, 13)"
      ]
     },
     "execution_count": 3,
     "metadata": {},
     "output_type": "execute_result"
    }
   ],
   "source": [
    "#makes sure age matches this format and removes players which we don't have a birthdate for\n",
    "#also excludes weird dates that might include dates over 31 or months over 12 or entries of 00\n",
    "roster = roster[roster['Birthdate'].str.match('(\\d\\d\\d\\d)\\-((?!00)0[1-9]|1[0-2])\\-((?!00)(0[1-9]|[12]\\d|3[01]))')]\n",
    "roster.shape"
   ]
  },
  {
   "cell_type": "code",
   "execution_count": 4,
   "metadata": {},
   "outputs": [
    {
     "data": {
      "text/plain": [
       "(136018, 13)"
      ]
     },
     "execution_count": 4,
     "metadata": {},
     "output_type": "execute_result"
    }
   ],
   "source": [
    "#had two birthdates on september 31st just excluded them \n",
    "roster = roster[~roster['Birthdate'].str.match('(\\d\\d\\d\\d)\\-09\\-31')]\n",
    "roster.shape"
   ]
  },
  {
   "cell_type": "code",
   "execution_count": 5,
   "metadata": {},
   "outputs": [],
   "source": [
    "#Create the season start to calculate age at start of season for age adjusted statistics\n",
    "roster['season_start'] = roster['season'].apply(lambda x: x - 1).apply('09-15-{}'.format)\n",
    "roster['Birthdate'] = pd.to_datetime(roster['Birthdate'], format='%Y-%m-%d')\n",
    "roster['season_start'] = pd.to_datetime(roster['season_start'], format='%m-%d-%Y')\n",
    "roster['draft_cutoff'] = roster['season'].apply('09-15-{}'.format)\n",
    "roster['draft_cutoff'] = pd.to_datetime(roster['draft_cutoff'], format='%m-%d-%Y')\n",
    "#EP lists players Age as their current age instead of the age they were at the season\n",
    "#I'm calculating their age as the age they are at the draft cutoff of that season\n",
    "#in order to see if they are draft eligible that season. I have to calculate the players\n",
    "#at sept. 15th of the draft year for that respective season. I then use that draft\n",
    "#cutoff age to determine the years from their first draft eligible year\n",
    "roster['Age'] = (roster['season_start'] - roster['Birthdate'])\n",
    "roster['Age'] = roster['Age'] / timedelta(days=365)\n",
    "roster['Age'] = roster['Age'].round(decimals=2)\n",
    "roster['draft_cutoff_age'] = roster['draft_cutoff'] - roster['Birthdate']\n",
    "roster['draft_cutoff_age'] = roster['draft_cutoff_age'] / timedelta(days=365)\n",
    "roster['draft_cutoff_age'] = roster['draft_cutoff_age'].round(decimals=2)"
   ]
  },
  {
   "cell_type": "code",
   "execution_count": 6,
   "metadata": {},
   "outputs": [],
   "source": [
    "#Remove goalies from the dataframe\n",
    "roster = roster[roster['Position'] != 'G']"
   ]
  },
  {
   "cell_type": "code",
   "execution_count": 7,
   "metadata": {},
   "outputs": [],
   "source": [
    "#this function determines the years away from first draft eligible year for the season\n",
    "#of the row i then apply it to the draft_cutoff_age column using pandas .apply() function\n",
    "def draft_year(age):\n",
    "    \n",
    "    if age >=18 and age < 19:\n",
    "        return 0\n",
    "    else:\n",
    "        return math.floor(age-18)\n",
    "        \n",
    "        \n",
    "roster['draft_year'] = roster['draft_cutoff_age'].apply(draft_year)\n",
    "#roster.Age.astype"
   ]
  },
  {
   "cell_type": "code",
   "execution_count": 8,
   "metadata": {},
   "outputs": [],
   "source": [
    "stats = pd.read_csv('stats_files/player_stats', sep='|')\n",
    "stats.head()\n",
    "roster = roster.merge(stats[['player_id', 'season', 'GP', 'G', 'A', 'TP', 'PIM', 'playoff_GP',  \n",
    "                           'playoff_G', 'playoff_A', 'playoff_TP', 'playoff_PIM', 'playoff_+/-']], \n",
    "                          on =['player_id', 'season'])"
   ]
  },
  {
   "cell_type": "code",
   "execution_count": 9,
   "metadata": {},
   "outputs": [],
   "source": [
    "#converting height into decimal values of feet\n",
    "def clean_height(value):\n",
    "    '''\n",
    "    Function to convert height meausered in feet and inches to a decimal\n",
    "    value\n",
    "    Input:\n",
    "    value - height measured in feet and inches\n",
    "    Output:\n",
    "    decimal_value - height returned in feet and inches converted to a decimal\n",
    "                    value of feet\n",
    "    '''\n",
    "    try:\n",
    "        value = value.replace(\"'\", '.').replace(' ', '').replace('\"', '')\n",
    "        value_list = value.split('.')\n",
    "        value_list[1] = float(value_list[1])/12\n",
    "        value = float(value_list[0]) + value_list[1]\n",
    "        value = round(value, 2)\n",
    "    except IndexError as ex:\n",
    "        value = ''\n",
    "\n",
    "    return value\n",
    "\n",
    "roster['HT'] = roster['HT'].astype('str').apply(clean_height)\n"
   ]
  },
  {
   "cell_type": "code",
   "execution_count": 47,
   "metadata": {},
   "outputs": [],
   "source": [
    "#joining league data to the dataframe\n",
    "leagues_hist = pd.read_csv('stats_files/leagues_hist_table', sep='|')\n",
    "\n",
    "roster = roster.merge(leagues_hist[['league', 'season', 'team_id']], on=['season', 'team_id'])"
   ]
  },
  {
   "cell_type": "code",
   "execution_count": 101,
   "metadata": {},
   "outputs": [],
   "source": [
    "roster['Player'] = roster['Player'].str.strip()"
   ]
  },
  {
   "cell_type": "code",
   "execution_count": 103,
   "metadata": {},
   "outputs": [],
   "source": []
  },
  {
   "cell_type": "code",
   "execution_count": 165,
   "metadata": {},
   "outputs": [
    {
     "data": {
      "text/html": [
       "<div>\n",
       "<style scoped>\n",
       "    .dataframe tbody tr th:only-of-type {\n",
       "        vertical-align: middle;\n",
       "    }\n",
       "\n",
       "    .dataframe tbody tr th {\n",
       "        vertical-align: top;\n",
       "    }\n",
       "\n",
       "    .dataframe thead th {\n",
       "        text-align: right;\n",
       "    }\n",
       "</style>\n",
       "<table border=\"1\" class=\"dataframe\">\n",
       "  <thead>\n",
       "    <tr style=\"text-align: right;\">\n",
       "      <th></th>\n",
       "      <th>#</th>\n",
       "      <th>Player</th>\n",
       "      <th>Age</th>\n",
       "      <th>Position</th>\n",
       "      <th>Birthdate</th>\n",
       "      <th>Birthplace</th>\n",
       "      <th>HT</th>\n",
       "      <th>WT</th>\n",
       "      <th>Shots</th>\n",
       "      <th>player_id</th>\n",
       "      <th>...</th>\n",
       "      <th>A</th>\n",
       "      <th>TP</th>\n",
       "      <th>PIM</th>\n",
       "      <th>playoff_GP</th>\n",
       "      <th>playoff_G</th>\n",
       "      <th>playoff_A</th>\n",
       "      <th>playoff_TP</th>\n",
       "      <th>playoff_PIM</th>\n",
       "      <th>playoff_+/-</th>\n",
       "      <th>league</th>\n",
       "    </tr>\n",
       "  </thead>\n",
       "  <tbody>\n",
       "    <tr>\n",
       "      <th>148343</th>\n",
       "      <td>13</td>\n",
       "      <td>Nico Hischier</td>\n",
       "      <td>17.71</td>\n",
       "      <td>C</td>\n",
       "      <td>1999-01-04</td>\n",
       "      <td>Brig, SUI</td>\n",
       "      <td>6.08</td>\n",
       "      <td>174</td>\n",
       "      <td>L</td>\n",
       "      <td>116244</td>\n",
       "      <td>...</td>\n",
       "      <td>48</td>\n",
       "      <td>86</td>\n",
       "      <td>24</td>\n",
       "      <td>6</td>\n",
       "      <td>3</td>\n",
       "      <td>4</td>\n",
       "      <td>7</td>\n",
       "      <td>0</td>\n",
       "      <td>2</td>\n",
       "      <td>QMJHL</td>\n",
       "    </tr>\n",
       "  </tbody>\n",
       "</table>\n",
       "<p>1 rows × 29 columns</p>\n",
       "</div>"
      ],
      "text/plain": [
       "         #         Player    Age Position  Birthdate Birthplace    HT   WT  \\\n",
       "148343  13  Nico Hischier  17.71        C 1999-01-04  Brig, SUI  6.08  174   \n",
       "\n",
       "       Shots  player_id   ...     A  TP PIM playoff_GP playoff_G  playoff_A  \\\n",
       "148343     L     116244   ...    48  86  24          6         3          4   \n",
       "\n",
       "        playoff_TP  playoff_PIM  playoff_+/-  league  \n",
       "148343           7            0            2   QMJHL  \n",
       "\n",
       "[1 rows x 29 columns]"
      ]
     },
     "execution_count": 165,
     "metadata": {},
     "output_type": "execute_result"
    }
   ],
   "source": [
    "\n"
   ]
  },
  {
   "cell_type": "code",
   "execution_count": 117,
   "metadata": {},
   "outputs": [],
   "source": [
    "import bs4 \n",
    "import requests\n",
    "import re\n",
    "import pandas as pd"
   ]
  },
  {
   "cell_type": "code",
   "execution_count": 426,
   "metadata": {},
   "outputs": [
    {
     "name": "stdout",
     "output_type": "stream",
     "text": [
      "2003\n",
      "['#292', 'New Jersey Devils', 'Arseni Bondarev (F)', '', '', '', '', '', '']\n",
      "2004\n",
      "['#291', 'Philadelphia Flyers', 'John Carter (F)', '', '', '', '', '', '']\n",
      "2005\n",
      "['#230', 'Nashville Predators', 'Patric Hörnqvist (F)', '10', '649', '203', '208', '411', '333']\n",
      "2006\n",
      "['#213', 'Carolina Hurricanes', 'Justin Krueger (D)', '', '', '', '', '', '']\n",
      "2007\n",
      "['#211', 'Columbus Blue Jackets', 'Trent Vogelhuber (F)', '', '', '', '', '', '']\n",
      "2008\n",
      "['#211', 'Detroit Red Wings', 'Jesper Samuelsson (F)', '', '', '', '', '', '']\n",
      "2009\n",
      "['#211', 'Montréal Canadiens', 'Petteri Similä  (G)', '', '', '', '', '', '']\n",
      "2010\n",
      "['#210', 'Boston Bruins', 'Zach Trotman (D)', '4', '70', '3', '9', '12', '22']\n",
      "2011\n",
      "['#211', 'Chicago Blackhawks', 'Johan Mattsson (G)', '', '', '', '', '', '']\n",
      "2012\n",
      "['#211', 'Los Angeles Kings', 'Nick Ebert (D)', '', '', '', '', '', '']\n",
      "2013\n",
      "['#211', 'Chicago Blackhawks', 'Robin Press (D)', '', '', '', '', '', '']\n",
      "2014\n",
      "['#210', 'Los Angeles Kings', 'Jacob Middleton (D)', '', '', '', '', '', '']\n",
      "2015\n",
      "['#211', 'Chicago Blackhawks', 'John Dahlström (F)', '', '', '', '', '', '']\n",
      "2016\n",
      "['#211', 'St. Louis Blues', 'Filip Helt (F)', '', '', '', '', '', '']\n",
      "2017\n",
      "['#217', 'Pittsburgh Penguins', 'William Reilly (D)', '', '', '', '', '', '']\n"
     ]
    }
   ],
   "source": []
  },
  {
   "cell_type": "code",
   "execution_count": 380,
   "metadata": {},
   "outputs": [],
   "source": [
    "\n"
   ]
  },
  {
   "cell_type": "code",
   "execution_count": 417,
   "metadata": {},
   "outputs": [],
   "source": [
    "\n"
   ]
  },
  {
   "cell_type": "code",
   "execution_count": 418,
   "metadata": {},
   "outputs": [
    {
     "data": {
      "text/plain": [
       "['#292', 'New Jersey Devils', 'Arseni Bondarev (F)', '', '', '', '', '', '']"
      ]
     },
     "execution_count": 418,
     "metadata": {},
     "output_type": "execute_result"
    }
   ],
   "source": [
    "\n"
   ]
  },
  {
   "cell_type": "code",
   "execution_count": 416,
   "metadata": {},
   "outputs": [
    {
     "data": {
      "text/plain": [
       "2628"
      ]
     },
     "execution_count": 416,
     "metadata": {},
     "output_type": "execute_result"
    }
   ],
   "source": []
  },
  {
   "cell_type": "code",
   "execution_count": 329,
   "metadata": {},
   "outputs": [
    {
     "data": {
      "text/plain": [
       "['\\n                            #217\\n                        ',\n",
       " '\\nPittsburgh Penguins\\n',\n",
       " '\\n  \\n\\nWilliam Reilly (D)\\n\\n',\n",
       " '\\n',\n",
       " '\\n',\n",
       " '\\n',\n",
       " '\\n',\n",
       " '\\n',\n",
       " '\\n']"
      ]
     },
     "execution_count": 329,
     "metadata": {},
     "output_type": "execute_result"
    }
   ],
   "source": []
  },
  {
   "cell_type": "code",
   "execution_count": 325,
   "metadata": {},
   "outputs": [
    {
     "data": {
      "text/plain": [
       "9"
      ]
     },
     "execution_count": 325,
     "metadata": {},
     "output_type": "execute_result"
    }
   ],
   "source": []
  },
  {
   "cell_type": "code",
   "execution_count": 324,
   "metadata": {},
   "outputs": [
    {
     "data": {
      "text/plain": [
       "8"
      ]
     },
     "execution_count": 324,
     "metadata": {},
     "output_type": "execute_result"
    }
   ],
   "source": []
  },
  {
   "cell_type": "code",
   "execution_count": 317,
   "metadata": {},
   "outputs": [
    {
     "data": {
      "text/plain": [
       "9"
      ]
     },
     "execution_count": 317,
     "metadata": {},
     "output_type": "execute_result"
    }
   ],
   "source": []
  },
  {
   "cell_type": "code",
   "execution_count": null,
   "metadata": {},
   "outputs": [],
   "source": []
  }
 ],
 "metadata": {
  "kernelspec": {
   "display_name": "Python 3",
   "language": "python",
   "name": "python3"
  },
  "language_info": {
   "codemirror_mode": {
    "name": "ipython",
    "version": 3
   },
   "file_extension": ".py",
   "mimetype": "text/x-python",
   "name": "python",
   "nbconvert_exporter": "python",
   "pygments_lexer": "ipython3",
   "version": "3.6.4"
  }
 },
 "nbformat": 4,
 "nbformat_minor": 2
}
