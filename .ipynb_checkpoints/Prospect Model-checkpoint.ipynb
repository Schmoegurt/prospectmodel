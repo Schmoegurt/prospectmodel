{
 "cells": [
  {
   "cell_type": "code",
   "execution_count": 28,
   "metadata": {},
   "outputs": [],
   "source": [
    "import pandas as pd\n",
    "from datetime import datetime"
   ]
  },
  {
   "cell_type": "code",
   "execution_count": 95,
   "metadata": {},
   "outputs": [
    {
     "name": "stderr",
     "output_type": "stream",
     "text": [
      "/Users/MattBarlowe/.virtualenvs/prospectmodel/lib/python3.6/site-packages/IPython/core/interactiveshell.py:2785: DtypeWarning: Columns (0,2,7) have mixed types. Specify dtype option on import or set low_memory=False.\n",
      "  interactivity=interactivity, compiler=compiler, result=result)\n"
     ]
    },
    {
     "data": {
      "text/plain": [
       "(136182, 13)"
      ]
     },
     "execution_count": 95,
     "metadata": {},
     "output_type": "execute_result"
    }
   ],
   "source": [
    "#the players number column, age, weight columns have NaN's in them probably can drop the number and weight columns\n",
    "#as they are not features \n",
    "roster = pd.read_csv('stats_files/rosters', sep = '|')\n",
    "roster.shape\n"
   ]
  },
  {
   "cell_type": "code",
   "execution_count": 99,
   "metadata": {},
   "outputs": [
    {
     "data": {
      "text/plain": [
       "(136018, 13)"
      ]
     },
     "execution_count": 99,
     "metadata": {},
     "output_type": "execute_result"
    }
   ],
   "source": [
    "#makes sure age matches this format and removes players which we don't have a birthdate for\n",
    "#also excludes weird dates that might include dates over 31 or months over 12 or entries of 00\n",
    "roster = roster[roster['Birthdate'].str.match('(\\d\\d\\d\\d)\\-((?!00)0[1-9]|1[0-2])\\-((?!00)(0[1-9]|[12]\\d|3[01]))')]\n",
    "roster.shape"
   ]
  },
  {
   "cell_type": "code",
   "execution_count": 100,
   "metadata": {},
   "outputs": [
    {
     "data": {
      "text/plain": [
       "(136018, 13)"
      ]
     },
     "execution_count": 100,
     "metadata": {},
     "output_type": "execute_result"
    }
   ],
   "source": [
    "#had two birthdates on september 31st just excluded them \n",
    "roster = roster[~roster['Birthdate'].str.match('(\\d\\d\\d\\d)\\-09\\-31')]\n",
    "roster.shape"
   ]
  },
  {
   "cell_type": "code",
   "execution_count": 101,
   "metadata": {},
   "outputs": [
    {
     "data": {
      "text/html": [
       "<div>\n",
       "<style scoped>\n",
       "    .dataframe tbody tr th:only-of-type {\n",
       "        vertical-align: middle;\n",
       "    }\n",
       "\n",
       "    .dataframe tbody tr th {\n",
       "        vertical-align: top;\n",
       "    }\n",
       "\n",
       "    .dataframe thead th {\n",
       "        text-align: right;\n",
       "    }\n",
       "</style>\n",
       "<table border=\"1\" class=\"dataframe\">\n",
       "  <thead>\n",
       "    <tr style=\"text-align: right;\">\n",
       "      <th></th>\n",
       "      <th>#</th>\n",
       "      <th>Player</th>\n",
       "      <th>Age</th>\n",
       "      <th>Position</th>\n",
       "      <th>Birthdate</th>\n",
       "      <th>Birthplace</th>\n",
       "      <th>HT</th>\n",
       "      <th>WT</th>\n",
       "      <th>Shots</th>\n",
       "      <th>player_id</th>\n",
       "      <th>team_id</th>\n",
       "      <th>season</th>\n",
       "      <th>team</th>\n",
       "    </tr>\n",
       "  </thead>\n",
       "  <tbody>\n",
       "    <tr>\n",
       "      <th>0</th>\n",
       "      <td>31</td>\n",
       "      <td>Ari Ahonen</td>\n",
       "      <td>37</td>\n",
       "      <td>G</td>\n",
       "      <td>1981-02-06</td>\n",
       "      <td>Jyväskylä, FIN</td>\n",
       "      <td>6'1\"</td>\n",
       "      <td>176</td>\n",
       "      <td>L</td>\n",
       "      <td>2691</td>\n",
       "      <td>80</td>\n",
       "      <td>2003</td>\n",
       "      <td>Albany River Rats</td>\n",
       "    </tr>\n",
       "    <tr>\n",
       "      <th>1</th>\n",
       "      <td>40</td>\n",
       "      <td>Scott Clemmensen</td>\n",
       "      <td>40</td>\n",
       "      <td>G</td>\n",
       "      <td>1977-07-23</td>\n",
       "      <td>Des Moines, IA, USA</td>\n",
       "      <td>6'2\"</td>\n",
       "      <td>201</td>\n",
       "      <td>L</td>\n",
       "      <td>9114</td>\n",
       "      <td>80</td>\n",
       "      <td>2003</td>\n",
       "      <td>Albany River Rats</td>\n",
       "    </tr>\n",
       "    <tr>\n",
       "      <th>2</th>\n",
       "      <td>NaN</td>\n",
       "      <td>Tommy Albelin</td>\n",
       "      <td>53</td>\n",
       "      <td>D</td>\n",
       "      <td>1964-05-21</td>\n",
       "      <td>Stockholm, SWE</td>\n",
       "      <td>6'1\"</td>\n",
       "      <td>194</td>\n",
       "      <td>L</td>\n",
       "      <td>701</td>\n",
       "      <td>80</td>\n",
       "      <td>2003</td>\n",
       "      <td>Albany River Rats</td>\n",
       "    </tr>\n",
       "    <tr>\n",
       "      <th>3</th>\n",
       "      <td>3</td>\n",
       "      <td>Daryl Andrews</td>\n",
       "      <td>41</td>\n",
       "      <td>D</td>\n",
       "      <td>1977-04-27</td>\n",
       "      <td>Campbell River, BC, CAN</td>\n",
       "      <td>6'2\"</td>\n",
       "      <td>205</td>\n",
       "      <td>L</td>\n",
       "      <td>12221</td>\n",
       "      <td>80</td>\n",
       "      <td>2003</td>\n",
       "      <td>Albany River Rats</td>\n",
       "    </tr>\n",
       "    <tr>\n",
       "      <th>4</th>\n",
       "      <td>7</td>\n",
       "      <td>Alex Brooks</td>\n",
       "      <td>41</td>\n",
       "      <td>D</td>\n",
       "      <td>1976-08-21</td>\n",
       "      <td>Madison, WI, USA</td>\n",
       "      <td>6'1\"</td>\n",
       "      <td>194</td>\n",
       "      <td>R</td>\n",
       "      <td>10257</td>\n",
       "      <td>80</td>\n",
       "      <td>2003</td>\n",
       "      <td>Albany River Rats</td>\n",
       "    </tr>\n",
       "  </tbody>\n",
       "</table>\n",
       "</div>"
      ],
      "text/plain": [
       "     #             Player Age Position   Birthdate               Birthplace  \\\n",
       "0   31        Ari Ahonen   37        G  1981-02-06           Jyväskylä, FIN   \n",
       "1   40  Scott Clemmensen   40        G  1977-07-23      Des Moines, IA, USA   \n",
       "2  NaN     Tommy Albelin   53        D  1964-05-21           Stockholm, SWE   \n",
       "3    3     Daryl Andrews   41        D  1977-04-27  Campbell River, BC, CAN   \n",
       "4    7       Alex Brooks   41        D  1976-08-21         Madison, WI, USA   \n",
       "\n",
       "     HT   WT Shots  player_id  team_id  season               team  \n",
       "0  6'1\"  176     L       2691       80    2003  Albany River Rats  \n",
       "1  6'2\"  201     L       9114       80    2003  Albany River Rats  \n",
       "2  6'1\"  194     L        701       80    2003  Albany River Rats  \n",
       "3  6'2\"  205     L      12221       80    2003  Albany River Rats  \n",
       "4  6'1\"  194     R      10257       80    2003  Albany River Rats  "
      ]
     },
     "execution_count": 101,
     "metadata": {},
     "output_type": "execute_result"
    }
   ],
   "source": [
    "roster.head()"
   ]
  },
  {
   "cell_type": "code",
   "execution_count": 106,
   "metadata": {},
   "outputs": [],
   "source": [
    "#Create the season start to calculate age at start of season\n",
    "roster['season_start'] = roster['season'].apply(lambda x: x - 1).apply('09-1-{}'.format)\n",
    "roster['season_start'] = pd.to_datetime(roster['season_start'], format='%m-%d-%Y')\n"
   ]
  },
  {
   "cell_type": "code",
   "execution_count": 103,
   "metadata": {},
   "outputs": [],
   "source": [
    "#Convert Birthdate to datetime to subtract from season start \n",
    "roster['Birthdate'] = pd.to_datetime(roster['Birthdate'], format='%Y-%m-%d')\n"
   ]
  },
  {
   "cell_type": "code",
   "execution_count": 104,
   "metadata": {},
   "outputs": [
    {
     "data": {
      "text/plain": [
       "0   1981-02-06\n",
       "1   1977-07-23\n",
       "2   1964-05-21\n",
       "3   1977-04-27\n",
       "4   1976-08-21\n",
       "Name: Birthdate, dtype: datetime64[ns]"
      ]
     },
     "execution_count": 104,
     "metadata": {},
     "output_type": "execute_result"
    }
   ],
   "source": [
    "roster['Birthdate'].head()\n"
   ]
  },
  {
   "cell_type": "code",
   "execution_count": 105,
   "metadata": {},
   "outputs": [
    {
     "data": {
      "text/html": [
       "<div>\n",
       "<style scoped>\n",
       "    .dataframe tbody tr th:only-of-type {\n",
       "        vertical-align: middle;\n",
       "    }\n",
       "\n",
       "    .dataframe tbody tr th {\n",
       "        vertical-align: top;\n",
       "    }\n",
       "\n",
       "    .dataframe thead th {\n",
       "        text-align: right;\n",
       "    }\n",
       "</style>\n",
       "<table border=\"1\" class=\"dataframe\">\n",
       "  <thead>\n",
       "    <tr style=\"text-align: right;\">\n",
       "      <th></th>\n",
       "      <th>#</th>\n",
       "      <th>Player</th>\n",
       "      <th>Age</th>\n",
       "      <th>Position</th>\n",
       "      <th>Birthdate</th>\n",
       "      <th>Birthplace</th>\n",
       "      <th>HT</th>\n",
       "      <th>WT</th>\n",
       "      <th>Shots</th>\n",
       "      <th>player_id</th>\n",
       "      <th>team_id</th>\n",
       "      <th>season</th>\n",
       "      <th>team</th>\n",
       "      <th>season_start</th>\n",
       "    </tr>\n",
       "  </thead>\n",
       "  <tbody>\n",
       "    <tr>\n",
       "      <th>0</th>\n",
       "      <td>31</td>\n",
       "      <td>Ari Ahonen</td>\n",
       "      <td>37</td>\n",
       "      <td>G</td>\n",
       "      <td>1981-02-06</td>\n",
       "      <td>Jyväskylä, FIN</td>\n",
       "      <td>6'1\"</td>\n",
       "      <td>176</td>\n",
       "      <td>L</td>\n",
       "      <td>2691</td>\n",
       "      <td>80</td>\n",
       "      <td>2003</td>\n",
       "      <td>Albany River Rats</td>\n",
       "      <td>2002-10-01</td>\n",
       "    </tr>\n",
       "    <tr>\n",
       "      <th>1</th>\n",
       "      <td>40</td>\n",
       "      <td>Scott Clemmensen</td>\n",
       "      <td>40</td>\n",
       "      <td>G</td>\n",
       "      <td>1977-07-23</td>\n",
       "      <td>Des Moines, IA, USA</td>\n",
       "      <td>6'2\"</td>\n",
       "      <td>201</td>\n",
       "      <td>L</td>\n",
       "      <td>9114</td>\n",
       "      <td>80</td>\n",
       "      <td>2003</td>\n",
       "      <td>Albany River Rats</td>\n",
       "      <td>2002-10-01</td>\n",
       "    </tr>\n",
       "    <tr>\n",
       "      <th>2</th>\n",
       "      <td>NaN</td>\n",
       "      <td>Tommy Albelin</td>\n",
       "      <td>53</td>\n",
       "      <td>D</td>\n",
       "      <td>1964-05-21</td>\n",
       "      <td>Stockholm, SWE</td>\n",
       "      <td>6'1\"</td>\n",
       "      <td>194</td>\n",
       "      <td>L</td>\n",
       "      <td>701</td>\n",
       "      <td>80</td>\n",
       "      <td>2003</td>\n",
       "      <td>Albany River Rats</td>\n",
       "      <td>2002-10-01</td>\n",
       "    </tr>\n",
       "    <tr>\n",
       "      <th>3</th>\n",
       "      <td>3</td>\n",
       "      <td>Daryl Andrews</td>\n",
       "      <td>41</td>\n",
       "      <td>D</td>\n",
       "      <td>1977-04-27</td>\n",
       "      <td>Campbell River, BC, CAN</td>\n",
       "      <td>6'2\"</td>\n",
       "      <td>205</td>\n",
       "      <td>L</td>\n",
       "      <td>12221</td>\n",
       "      <td>80</td>\n",
       "      <td>2003</td>\n",
       "      <td>Albany River Rats</td>\n",
       "      <td>2002-10-01</td>\n",
       "    </tr>\n",
       "    <tr>\n",
       "      <th>4</th>\n",
       "      <td>7</td>\n",
       "      <td>Alex Brooks</td>\n",
       "      <td>41</td>\n",
       "      <td>D</td>\n",
       "      <td>1976-08-21</td>\n",
       "      <td>Madison, WI, USA</td>\n",
       "      <td>6'1\"</td>\n",
       "      <td>194</td>\n",
       "      <td>R</td>\n",
       "      <td>10257</td>\n",
       "      <td>80</td>\n",
       "      <td>2003</td>\n",
       "      <td>Albany River Rats</td>\n",
       "      <td>2002-10-01</td>\n",
       "    </tr>\n",
       "  </tbody>\n",
       "</table>\n",
       "</div>"
      ],
      "text/plain": [
       "     #             Player Age Position  Birthdate               Birthplace  \\\n",
       "0   31        Ari Ahonen   37        G 1981-02-06           Jyväskylä, FIN   \n",
       "1   40  Scott Clemmensen   40        G 1977-07-23      Des Moines, IA, USA   \n",
       "2  NaN     Tommy Albelin   53        D 1964-05-21           Stockholm, SWE   \n",
       "3    3     Daryl Andrews   41        D 1977-04-27  Campbell River, BC, CAN   \n",
       "4    7       Alex Brooks   41        D 1976-08-21         Madison, WI, USA   \n",
       "\n",
       "     HT   WT Shots  player_id  team_id  season               team season_start  \n",
       "0  6'1\"  176     L       2691       80    2003  Albany River Rats   2002-10-01  \n",
       "1  6'2\"  201     L       9114       80    2003  Albany River Rats   2002-10-01  \n",
       "2  6'1\"  194     L        701       80    2003  Albany River Rats   2002-10-01  \n",
       "3  6'2\"  205     L      12221       80    2003  Albany River Rats   2002-10-01  \n",
       "4  6'1\"  194     R      10257       80    2003  Albany River Rats   2002-10-01  "
      ]
     },
     "execution_count": 105,
     "metadata": {},
     "output_type": "execute_result"
    }
   ],
   "source": [
    "roster.head()"
   ]
  },
  {
   "cell_type": "code",
   "execution_count": null,
   "metadata": {},
   "outputs": [],
   "source": []
  }
 ],
 "metadata": {
  "kernelspec": {
   "display_name": "Python 3",
   "language": "python",
   "name": "python3"
  },
  "language_info": {
   "codemirror_mode": {
    "name": "ipython",
    "version": 3
   },
   "file_extension": ".py",
   "mimetype": "text/x-python",
   "name": "python",
   "nbconvert_exporter": "python",
   "pygments_lexer": "ipython3",
   "version": "3.6.4"
  }
 },
 "nbformat": 4,
 "nbformat_minor": 2
}
