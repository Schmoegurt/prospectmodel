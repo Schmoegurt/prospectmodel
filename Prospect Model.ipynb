{
 "cells": [
  {
   "cell_type": "code",
   "execution_count": 77,
   "metadata": {},
   "outputs": [],
   "source": [
    "import pandas as pd\n",
    "from datetime import datetime, timedelta\n",
    "import math"
   ]
  },
  {
   "cell_type": "code",
   "execution_count": 112,
   "metadata": {},
   "outputs": [
    {
     "name": "stderr",
     "output_type": "stream",
     "text": [
      "/Users/MattBarlowe/.virtualenvs/prospectmodel/lib/python3.6/site-packages/IPython/core/interactiveshell.py:2785: DtypeWarning: Columns (0,2,7) have mixed types. Specify dtype option on import or set low_memory=False.\n",
      "  interactivity=interactivity, compiler=compiler, result=result)\n"
     ]
    },
    {
     "data": {
      "text/plain": [
       "(136182, 13)"
      ]
     },
     "execution_count": 112,
     "metadata": {},
     "output_type": "execute_result"
    }
   ],
   "source": [
    "#the players number column, age, weight columns have NaN's in them probably can drop the number and weight columns\n",
    "#as they are not features \n",
    "roster = pd.read_csv('stats_files/rosters', sep = '|')\n",
    "roster.shape\n"
   ]
  },
  {
   "cell_type": "code",
   "execution_count": 113,
   "metadata": {},
   "outputs": [
    {
     "data": {
      "text/plain": [
       "(136021, 13)"
      ]
     },
     "execution_count": 113,
     "metadata": {},
     "output_type": "execute_result"
    }
   ],
   "source": [
    "#makes sure age matches this format and removes players which we don't have a birthdate for\n",
    "#also excludes weird dates that might include dates over 31 or months over 12 or entries of 00\n",
    "roster = roster[roster['Birthdate'].str.match('(\\d\\d\\d\\d)\\-((?!00)0[1-9]|1[0-2])\\-((?!00)(0[1-9]|[12]\\d|3[01]))')]\n",
    "roster.shape"
   ]
  },
  {
   "cell_type": "code",
   "execution_count": 114,
   "metadata": {},
   "outputs": [
    {
     "data": {
      "text/plain": [
       "(136018, 13)"
      ]
     },
     "execution_count": 114,
     "metadata": {},
     "output_type": "execute_result"
    }
   ],
   "source": [
    "#had two birthdates on september 31st just excluded them \n",
    "roster = roster[~roster['Birthdate'].str.match('(\\d\\d\\d\\d)\\-09\\-31')]\n",
    "roster.shape"
   ]
  },
  {
   "cell_type": "code",
   "execution_count": 115,
   "metadata": {},
   "outputs": [],
   "source": [
    "#Create the season start to calculate age at start of season for age adjusted statistics\n",
    "roster['season_start'] = roster['season'].apply(lambda x: x - 1).apply('09-15-{}'.format)\n",
    "roster['Birthdate'] = pd.to_datetime(roster['Birthdate'], format='%Y-%m-%d')\n",
    "roster['season_start'] = pd.to_datetime(roster['season_start'], format='%m-%d-%Y')\n",
    "roster['draft_cutoff'] = roster['season'].apply('09-15-{}'.format)\n",
    "roster['draft_cutoff'] = pd.to_datetime(roster['draft_cutoff'], format='%m-%d-%Y')\n",
    "#EP lists players Age as their current age instead of the age they were at the season\n",
    "#I'm calculating their age as the age they are at the draft cutoff of that season\n",
    "#in order to see if they are draft eligible that season. I have to calculate the players\n",
    "#at sept. 15th of the draft year for that respective season. I then use that draft\n",
    "#cutoff age to determine the years from their first draft eligible year\n",
    "roster['Age'] = (roster['season_start'] - roster['Birthdate'])\n",
    "roster['Age'] = roster['Age'] / timedelta(days=365)\n",
    "roster['Age'] = roster['Age'].round(decimals=2)\n",
    "roster['draft_cutoff_age'] = roster['draft_cutoff'] - roster['Birthdate']\n",
    "roster['draft_cutoff_age'] = roster['draft_cutoff_age'] / timedelta(days=365)\n",
    "roster['draft_cutoff_age'] = roster['draft_cutoff_age'].round(decimals=2)"
   ]
  },
  {
   "cell_type": "code",
   "execution_count": 138,
   "metadata": {},
   "outputs": [],
   "source": [
    "#Remove goalies from the dataframe\n",
    "roster = roster[roster['Position'] != 'G']"
   ]
  },
  {
   "cell_type": "code",
   "execution_count": 131,
   "metadata": {},
   "outputs": [],
   "source": [
    "#this function determines the years away from first draft eligible year for the season\n",
    "#of the row i then apply it to the draft_cutoff_age column using pandas .apply() function\n",
    "def draft_year(age):\n",
    "    \n",
    "    if age >=18 and age < 19:\n",
    "        return 0\n",
    "    else:\n",
    "        return math.floor(age-18)\n",
    "        \n",
    "        \n",
    "roster['draft_year'] = roster['draft_cutoff_age'].apply(draft_year)\n",
    "#roster.Age.astype"
   ]
  },
  {
   "cell_type": "code",
   "execution_count": 144,
   "metadata": {},
   "outputs": [],
   "source": [
    "stats = pd.read_csv('stats_files/player_stats', sep='|')\n",
    "stats.head()\n",
    "test = roster.merge(stats[['player_id', 'season', 'GP', 'G', 'A', 'TP', 'PIM', 'playoff_GP',  \n",
    "                           'playoff_G', 'playoff_A', 'playoff_TP', 'playoff_PIM', 'playoff_+/-']], \n",
    "                          on =['player_id', 'season'])"
   ]
  },
  {
   "cell_type": "code",
   "execution_count": 162,
   "metadata": {},
   "outputs": [],
   "source": [
    "#converting height into decimal values of \n",
    "def clean_height(value):\n",
    "    '''\n",
    "    Function to convert height meausered in feet and inches to a decimal\n",
    "    value\n",
    "    Input:\n",
    "    value - height measured in feet and inches\n",
    "    Output:\n",
    "    decimal_value - height returned in feet and inches converted to a decimal\n",
    "                    value of feet\n",
    "    '''\n",
    "    try:\n",
    "        value = value.replace(\"'\", '.').replace(' ', '').replace('\"', '')\n",
    "        value_list = value.split('.')\n",
    "        value_list[1] = float(value_list[1])/12\n",
    "        value = float(value_list[0]) + value_list[1]\n",
    "        value = round(value, 2)\n",
    "    except IndexError as ex:\n",
    "        value = ''\n",
    "\n",
    "    return value\n",
    "\n",
    "test['HT'] = test['HT'].astype('str').apply(clean_height)\n"
   ]
  },
  {
   "cell_type": "code",
   "execution_count": 163,
   "metadata": {},
   "outputs": [
    {
     "data": {
      "text/plain": [
       "0    6.08\n",
       "1    6.17\n",
       "2    6.08\n",
       "3    6.33\n",
       "4    6.08\n",
       "Name: HT, dtype: object"
      ]
     },
     "execution_count": 163,
     "metadata": {},
     "output_type": "execute_result"
    }
   ],
   "source": [
    "\n"
   ]
  },
  {
   "cell_type": "code",
   "execution_count": null,
   "metadata": {},
   "outputs": [],
   "source": []
  }
 ],
 "metadata": {
  "kernelspec": {
   "display_name": "Python 3",
   "language": "python",
   "name": "python3"
  },
  "language_info": {
   "codemirror_mode": {
    "name": "ipython",
    "version": 3
   },
   "file_extension": ".py",
   "mimetype": "text/x-python",
   "name": "python",
   "nbconvert_exporter": "python",
   "pygments_lexer": "ipython3",
   "version": "3.6.4"
  }
 },
 "nbformat": 4,
 "nbformat_minor": 2
}
