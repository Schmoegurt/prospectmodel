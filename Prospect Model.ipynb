{
 "cells": [
  {
   "cell_type": "code",
   "execution_count": 77,
   "metadata": {},
   "outputs": [],
   "source": [
    "import pandas as pd\n",
    "from datetime import datetime, timedelta\n",
    "import math"
   ]
  },
  {
   "cell_type": "code",
   "execution_count": 112,
   "metadata": {},
   "outputs": [
    {
     "name": "stderr",
     "output_type": "stream",
     "text": [
      "/Users/MattBarlowe/.virtualenvs/prospectmodel/lib/python3.6/site-packages/IPython/core/interactiveshell.py:2785: DtypeWarning: Columns (0,2,7) have mixed types. Specify dtype option on import or set low_memory=False.\n",
      "  interactivity=interactivity, compiler=compiler, result=result)\n"
     ]
    },
    {
     "data": {
      "text/plain": [
       "(136182, 13)"
      ]
     },
     "execution_count": 112,
     "metadata": {},
     "output_type": "execute_result"
    }
   ],
   "source": [
    "#the players number column, age, weight columns have NaN's in them probably can drop the number and weight columns\n",
    "#as they are not features \n",
    "roster = pd.read_csv('stats_files/rosters', sep = '|')\n",
    "roster.shape\n"
   ]
  },
  {
   "cell_type": "code",
   "execution_count": 113,
   "metadata": {},
   "outputs": [
    {
     "data": {
      "text/plain": [
       "(136021, 13)"
      ]
     },
     "execution_count": 113,
     "metadata": {},
     "output_type": "execute_result"
    }
   ],
   "source": [
    "#makes sure age matches this format and removes players which we don't have a birthdate for\n",
    "#also excludes weird dates that might include dates over 31 or months over 12 or entries of 00\n",
    "roster = roster[roster['Birthdate'].str.match('(\\d\\d\\d\\d)\\-((?!00)0[1-9]|1[0-2])\\-((?!00)(0[1-9]|[12]\\d|3[01]))')]\n",
    "roster.shape"
   ]
  },
  {
   "cell_type": "code",
   "execution_count": 114,
   "metadata": {},
   "outputs": [
    {
     "data": {
      "text/plain": [
       "(136018, 13)"
      ]
     },
     "execution_count": 114,
     "metadata": {},
     "output_type": "execute_result"
    }
   ],
   "source": [
    "#had two birthdates on september 31st just excluded them \n",
    "roster = roster[~roster['Birthdate'].str.match('(\\d\\d\\d\\d)\\-09\\-31')]\n",
    "roster.shape"
   ]
  },
  {
   "cell_type": "code",
   "execution_count": 115,
   "metadata": {},
   "outputs": [],
   "source": [
    "#Create the season start to calculate age at start of season\n",
    "roster['season_start'] = roster['season'].apply(lambda x: x - 1).apply('09-15-{}'.format)\n",
    "roster['Birthdate'] = pd.to_datetime(roster['Birthdate'], format='%Y-%m-%d')\n",
    "roster['season_start'] = pd.to_datetime(roster['season_start'], format='%m-%d-%Y')\n",
    "roster['draft_cutoff'] = roster['season'].apply('09-15-{}'.format)\n",
    "roster['draft_cutoff'] = pd.to_datetime(roster['draft_cutoff'], format='%m-%d-%Y')\n",
    "#EP lists players Age as their current age instead of the age they were at the season\n",
    "#I'm calculating their age as the age they are at the draft cutoff of that season\n",
    "#in order to see if they are draft eligible that season\n",
    "roster['Age'] = (roster['season_start'] - roster['Birthdate'])\n",
    "roster['Age'] = roster['Age'] / timedelta(days=365)\n",
    "roster['Age'] = roster['Age'].round(decimals=2)\n",
    "roster['draft_cutoff_age'] = roster['draft_cutoff'] - roster['Birthdate']\n",
    "roster['draft_cutoff_age'] = roster['draft_cutoff_age'] / timedelta(days=365)\n",
    "roster['draft_cutoff_age'] = roster['draft_cutoff_age'].round(decimals=2)"
   ]
  },
  {
   "cell_type": "code",
   "execution_count": 131,
   "metadata": {},
   "outputs": [],
   "source": [
    "def draft_year(age):\n",
    "    \n",
    "    if age >=18 and age < 19:\n",
    "        return 0\n",
    "    else:\n",
    "        return math.floor(age-18)\n",
    "        \n",
    "        \n",
    "roster['draft_year'] = roster['draft_cutoff_age'].apply(draft_year)\n",
    "#roster.Age.astype"
   ]
  },
  {
   "cell_type": "code",
   "execution_count": 132,
   "metadata": {},
   "outputs": [
    {
     "data": {
      "text/html": [
       "<div>\n",
       "<style scoped>\n",
       "    .dataframe tbody tr th:only-of-type {\n",
       "        vertical-align: middle;\n",
       "    }\n",
       "\n",
       "    .dataframe tbody tr th {\n",
       "        vertical-align: top;\n",
       "    }\n",
       "\n",
       "    .dataframe thead th {\n",
       "        text-align: right;\n",
       "    }\n",
       "</style>\n",
       "<table border=\"1\" class=\"dataframe\">\n",
       "  <thead>\n",
       "    <tr style=\"text-align: right;\">\n",
       "      <th></th>\n",
       "      <th>Player</th>\n",
       "      <th>team</th>\n",
       "      <th>Age</th>\n",
       "      <th>draft_year</th>\n",
       "      <th>draft_cutoff_age</th>\n",
       "      <th>season</th>\n",
       "    </tr>\n",
       "  </thead>\n",
       "  <tbody>\n",
       "    <tr>\n",
       "      <th>136177</th>\n",
       "      <td>Ryan Peckford</td>\n",
       "      <td>Victoria Royals</td>\n",
       "      <td>18.55</td>\n",
       "      <td>1</td>\n",
       "      <td>19.55</td>\n",
       "      <td>2018</td>\n",
       "    </tr>\n",
       "    <tr>\n",
       "      <th>136178</th>\n",
       "      <td>Matthew Phillips</td>\n",
       "      <td>Victoria Royals</td>\n",
       "      <td>19.46</td>\n",
       "      <td>2</td>\n",
       "      <td>20.46</td>\n",
       "      <td>2018</td>\n",
       "    </tr>\n",
       "    <tr>\n",
       "      <th>136179</th>\n",
       "      <td>Tyler Soy</td>\n",
       "      <td>Victoria Royals</td>\n",
       "      <td>20.61</td>\n",
       "      <td>3</td>\n",
       "      <td>21.61</td>\n",
       "      <td>2018</td>\n",
       "    </tr>\n",
       "    <tr>\n",
       "      <th>136180</th>\n",
       "      <td>Ty Yoder</td>\n",
       "      <td>Victoria Royals</td>\n",
       "      <td>15.25</td>\n",
       "      <td>-2</td>\n",
       "      <td>16.25</td>\n",
       "      <td>2018</td>\n",
       "    </tr>\n",
       "    <tr>\n",
       "      <th>136181</th>\n",
       "      <td>Lane Zablocki</td>\n",
       "      <td>Victoria Royals</td>\n",
       "      <td>18.73</td>\n",
       "      <td>1</td>\n",
       "      <td>19.73</td>\n",
       "      <td>2018</td>\n",
       "    </tr>\n",
       "  </tbody>\n",
       "</table>\n",
       "</div>"
      ],
      "text/plain": [
       "                   Player             team    Age  draft_year  \\\n",
       "136177     Ryan Peckford   Victoria Royals  18.55           1   \n",
       "136178  Matthew Phillips   Victoria Royals  19.46           2   \n",
       "136179         Tyler Soy   Victoria Royals  20.61           3   \n",
       "136180          Ty Yoder   Victoria Royals  15.25          -2   \n",
       "136181     Lane Zablocki   Victoria Royals  18.73           1   \n",
       "\n",
       "        draft_cutoff_age  season  \n",
       "136177             19.55    2018  \n",
       "136178             20.46    2018  \n",
       "136179             21.61    2018  \n",
       "136180             16.25    2018  \n",
       "136181             19.73    2018  "
      ]
     },
     "execution_count": 132,
     "metadata": {},
     "output_type": "execute_result"
    }
   ],
   "source": [
    "roster[['Player','team','Age','draft_year', 'draft_cutoff_age','season']].tail()\n"
   ]
  },
  {
   "cell_type": "code",
   "execution_count": 133,
   "metadata": {},
   "outputs": [
    {
     "data": {
      "text/plain": [
       "134577     Griffen Outhouse \n",
       "134578     Coleman Vollrath \n",
       "134579          Ryan Gagnon \n",
       "134580         Joe Hicketts \n",
       "134581     Marsel Ibragimov \n",
       "134582        Ralph Jarratt \n",
       "134583       Brayden Pachal \n",
       "134584       Chaz Reddekopp \n",
       "134585        Scott Walford \n",
       "134586       Jordan Wharrie \n",
       "134587       Keith Anderson \n",
       "134588    Vladimir Bobylyov \n",
       "134589        Jared Dmytriw \n",
       "134590         Matt Dykstra \n",
       "134591         Logan Fisher \n",
       "134592        Alex Forsberg \n",
       "134593        Dante Hannoun \n",
       "134594           Regan Nagy \n",
       "134595        Ryan Peckford \n",
       "134596     Matthew Phillips \n",
       "134597          Ethan Price \n",
       "134598            Tyler Soy \n",
       "134599       Tyler Thompson \n",
       "134600          Jack Walker \n",
       "134601          Ty Westgard \n",
       "Name: Player, dtype: object"
      ]
     },
     "execution_count": 133,
     "metadata": {},
     "output_type": "execute_result"
    }
   ],
   "source": [
    "roster[(roster.team=='Victoria Royals') & (roster.season==2016)].Player"
   ]
  },
  {
   "cell_type": "code",
   "execution_count": null,
   "metadata": {},
   "outputs": [],
   "source": []
  }
 ],
 "metadata": {
  "kernelspec": {
   "display_name": "Python 3",
   "language": "python",
   "name": "python3"
  },
  "language_info": {
   "codemirror_mode": {
    "name": "ipython",
    "version": 3
   },
   "file_extension": ".py",
   "mimetype": "text/x-python",
   "name": "python",
   "nbconvert_exporter": "python",
   "pygments_lexer": "ipython3",
   "version": "3.6.4"
  }
 },
 "nbformat": 4,
 "nbformat_minor": 2
}
